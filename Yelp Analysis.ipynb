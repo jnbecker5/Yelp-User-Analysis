{
 "cells": [
  {
   "cell_type": "code",
   "execution_count": 1,
   "id": "8b64ec06",
   "metadata": {},
   "outputs": [],
   "source": [
    "import os\n",
    "import sys\n",
    "\n",
    "spark_path = os.environ['SPARK_HOME']\n",
    "sys.path.append(spark_path + \"/bin\")\n",
    "sys.path.append(spark_path + \"/python\")\n",
    "sys.path.append(spark_path + \"/python/pyspark/\")\n",
    "sys.path.append(spark_path + \"/python/lib\")\n",
    "sys.path.append(spark_path + \"/python/lib/pyspark.zip\")\n",
    "sys.path.append(spark_path + \"/python/lib/py4j-0.10.9-src.zip\")\n",
    "\n",
    "import findspark\n",
    "findspark.init()\n",
    "\n",
    "import pyspark\n",
    "\n",
    "number_cores = 4\n",
    "memory_gb = 8\n",
    "conf = (pyspark.SparkConf().setMaster('local[{}]'.\n",
    "                                      format(number_cores)).\n",
    "        set('spark.driver.memory', '{}g'.format(memory_gb)))\n",
    "sc = pyspark.SparkContext(conf=conf)"
   ]
  },
  {
   "cell_type": "code",
   "execution_count": 2,
   "id": "6331923e",
   "metadata": {},
   "outputs": [],
   "source": [
    "yelp = sc.textFile(\"../CSC467/yelp_academic_dataset_user.json.gz\")"
   ]
  },
  {
   "cell_type": "code",
   "execution_count": 4,
   "id": "107eb2ef",
   "metadata": {},
   "outputs": [
    {
     "data": {
      "text/plain": [
       "['{\"user_id\":\"ntlvfPzc8eglqvk92iDIAw\",\"name\":\"Rafael\",\"review_count\":553,\"yelping_since\":\"2007-07-06 03:27:11\",\"useful\":628,\"funny\":225,\"cool\":227,\"elite\":\"\",\"friends\":\"oeMvJh94PiGQnx_6GlndPQ, wm1z1PaJKvHgSDRKfwhfDg, IkRib6Xs91PPW7pon7VVig, A8Aq8f0-XvLBcyMk2GJdJQ, eEZM1kogR7eL4GOBZyPvBA, e1o1LN7ez5ckCpQeAab4iw, _HrJVzFaRFUhPva8cwBjpQ, pZeGZGzX-ROT_D5lam5uNg, 0S6EI51ej5J7dgYz3-O0lA, woDt8raW-AorxQM_tIE2eA, hWUnSE5gKXNe7bDc8uAG9A, c_3LDSO2RHwZ94_Q6j_O7w, -uv1wDiaplY6eXXS0VwQiA, QFjqxXn3acDC7hckFGUKMg, ErOqapICmHPTN8YobZIcfQ, mJLRvqLOKhqEdkgt9iEaCQ, VKX7jlScJSA-ja5hYRw12Q, ijIC9w5PRcj3dWVlanjZeg, CIZGlEw-Bp0rmkP8M6yQ9Q, OC6fT5WZ8EU7tEVJ3bzPBQ, UZSDGTDpycDzrlfUlyw2dQ, deL6e_z9xqZTIODKqnvRXQ, 5mG2ENw2PylIWElqHSMGqg, Uh5Kug2fvDd51RYmsNZkGg, 4dI4uoShugD9z84fYupelQ, EQpFHqGT9Tk6YSwORTtwpg, o4EGL2-ICGmRJzJ3GxB-vw, s8gK7sdVzJcYKcPv2dkZXw, vOYVZgb_GVe-kdtjQwSUHw, wBbjgHsrKr7BsPBrQwJf2w, p59u2EC_qcmCmLeX1jCi5Q, VSAZI1eHDrOPRWMK4Q2DIQ, efMfeI_dkhpeGykaRJqxfQ, x6qYcQ8_i0mMDzSLsFCbZg, K_zSmtNGw1fu-vmxyTVfCQ, 5IM6YPQCK-NABkXmHhlRGQ, U_w8ZMD26vnkeeS1sD7s4Q, AbfS_oXF8H6HJb5jFqhrLw, hbcjX4_D4KIfonNnwrH-cg, UKf66_MPz0zHCP70mF6p1g, hK2gYbxZRTqcqlSiQQcrtQ, 2Q45w_Twx_T9dXqlE16xtQ, BwRn8qcKSeA77HLaOTbfiQ, jouOn4VS_DtFPtMR2w8VDA, ESteyJabbfvqas6CEDs3pQ\",\"fans\":14,\"average_stars\":3.57,\"compliment_hot\":3,\"compliment_more\":2,\"compliment_profile\":1,\"compliment_cute\":0,\"compliment_list\":1,\"compliment_note\":11,\"compliment_plain\":15,\"compliment_cool\":22,\"compliment_funny\":22,\"compliment_writer\":10,\"compliment_photos\":0}']"
      ]
     },
     "execution_count": 4,
     "metadata": {},
     "output_type": "execute_result"
    }
   ],
   "source": [
    "yelp.take(1)"
   ]
  },
  {
   "cell_type": "markdown",
   "id": "01178f87",
   "metadata": {},
   "source": [
    "The very first step with this dataset is figuring out how to handle json files. A quick google search shows us that the simplest way of handling them is to import json and then use the functions associated with it."
   ]
  },
  {
   "cell_type": "code",
   "execution_count": 5,
   "id": "282e5cec",
   "metadata": {},
   "outputs": [
    {
     "data": {
      "text/plain": [
       "{'user_id': 'ntlvfPzc8eglqvk92iDIAw',\n",
       " 'name': 'Rafael',\n",
       " 'review_count': 553,\n",
       " 'yelping_since': '2007-07-06 03:27:11',\n",
       " 'useful': 628,\n",
       " 'funny': 225,\n",
       " 'cool': 227,\n",
       " 'elite': '',\n",
       " 'friends': 'oeMvJh94PiGQnx_6GlndPQ, wm1z1PaJKvHgSDRKfwhfDg, IkRib6Xs91PPW7pon7VVig, A8Aq8f0-XvLBcyMk2GJdJQ, eEZM1kogR7eL4GOBZyPvBA, e1o1LN7ez5ckCpQeAab4iw, _HrJVzFaRFUhPva8cwBjpQ, pZeGZGzX-ROT_D5lam5uNg, 0S6EI51ej5J7dgYz3-O0lA, woDt8raW-AorxQM_tIE2eA, hWUnSE5gKXNe7bDc8uAG9A, c_3LDSO2RHwZ94_Q6j_O7w, -uv1wDiaplY6eXXS0VwQiA, QFjqxXn3acDC7hckFGUKMg, ErOqapICmHPTN8YobZIcfQ, mJLRvqLOKhqEdkgt9iEaCQ, VKX7jlScJSA-ja5hYRw12Q, ijIC9w5PRcj3dWVlanjZeg, CIZGlEw-Bp0rmkP8M6yQ9Q, OC6fT5WZ8EU7tEVJ3bzPBQ, UZSDGTDpycDzrlfUlyw2dQ, deL6e_z9xqZTIODKqnvRXQ, 5mG2ENw2PylIWElqHSMGqg, Uh5Kug2fvDd51RYmsNZkGg, 4dI4uoShugD9z84fYupelQ, EQpFHqGT9Tk6YSwORTtwpg, o4EGL2-ICGmRJzJ3GxB-vw, s8gK7sdVzJcYKcPv2dkZXw, vOYVZgb_GVe-kdtjQwSUHw, wBbjgHsrKr7BsPBrQwJf2w, p59u2EC_qcmCmLeX1jCi5Q, VSAZI1eHDrOPRWMK4Q2DIQ, efMfeI_dkhpeGykaRJqxfQ, x6qYcQ8_i0mMDzSLsFCbZg, K_zSmtNGw1fu-vmxyTVfCQ, 5IM6YPQCK-NABkXmHhlRGQ, U_w8ZMD26vnkeeS1sD7s4Q, AbfS_oXF8H6HJb5jFqhrLw, hbcjX4_D4KIfonNnwrH-cg, UKf66_MPz0zHCP70mF6p1g, hK2gYbxZRTqcqlSiQQcrtQ, 2Q45w_Twx_T9dXqlE16xtQ, BwRn8qcKSeA77HLaOTbfiQ, jouOn4VS_DtFPtMR2w8VDA, ESteyJabbfvqas6CEDs3pQ',\n",
       " 'fans': 14,\n",
       " 'average_stars': 3.57,\n",
       " 'compliment_hot': 3,\n",
       " 'compliment_more': 2,\n",
       " 'compliment_profile': 1,\n",
       " 'compliment_cute': 0,\n",
       " 'compliment_list': 1,\n",
       " 'compliment_note': 11,\n",
       " 'compliment_plain': 15,\n",
       " 'compliment_cool': 22,\n",
       " 'compliment_funny': 22,\n",
       " 'compliment_writer': 10,\n",
       " 'compliment_photos': 0}"
      ]
     },
     "execution_count": 5,
     "metadata": {},
     "output_type": "execute_result"
    }
   ],
   "source": [
    "s = yelp.take(1)[0]\n",
    "import json\n",
    "json.loads(s)"
   ]
  },
  {
   "cell_type": "code",
   "execution_count": 6,
   "id": "97e5a196",
   "metadata": {},
   "outputs": [],
   "source": [
    "from pyspark.sql import SparkSession\n",
    "\n",
    "spark = SparkSession.builder.appName('demo').master(\"local\").enableHiveSupport().getOrCreate()\n",
    "df = spark.read.json(\"../CSC467/yelp_academic_dataset_user.json.gz\")"
   ]
  },
  {
   "cell_type": "markdown",
   "id": "beb00a1b",
   "metadata": {},
   "source": [
    "With the data in a manageable format, I want to figure out how many unique users there are. I could just do a count function on the dataset, but instead, to ensure we are being as accurate as possible, I will map out every single user ID. Then I will run a distinct function to only show unique IDs. Lastly, I will run count on the final dataset."
   ]
  },
  {
   "cell_type": "code",
   "execution_count": 7,
   "id": "d5eb739f",
   "metadata": {},
   "outputs": [
    {
     "data": {
      "text/plain": [
       "1968703"
      ]
     },
     "execution_count": 7,
     "metadata": {},
     "output_type": "execute_result"
    }
   ],
   "source": [
    "yelp_json = yelp.map(lambda x: json.loads(x))\n",
    "yelp_json.map(lambda x: x['user_id']).distinct().count()"
   ]
  },
  {
   "cell_type": "markdown",
   "id": "0ac92e8d",
   "metadata": {},
   "source": [
    "As seen here, there are 1,968,703 unique users in this dataset.\n",
    "\n",
    "My next step is to grab only the information needed for the next questions in the assignment. The important info is: user_id, review_count, and average_stars. I added in name as well to make it more visual."
   ]
  },
  {
   "cell_type": "code",
   "execution_count": 8,
   "id": "75c8da50",
   "metadata": {},
   "outputs": [
    {
     "data": {
      "text/plain": [
       "[('ntlvfPzc8eglqvk92iDIAw', 'Rafael', 553, 3.57),\n",
       " ('FOBRPlBHa3WPHFB5qYDlVg', 'Michelle', 564, 3.84),\n",
       " ('zZUnPeh2hEp0WydbAZEOOg', 'Martin', 60, 3.44),\n",
       " ('QaELAmRcDc5TfJEylaaP8g', 'John', 206, 3.08),\n",
       " ('xvu8G900tezTzbbfqmTKvA', 'Anne', 485, 4.37)]"
      ]
     },
     "execution_count": 8,
     "metadata": {},
     "output_type": "execute_result"
    }
   ],
   "source": [
    "reviews = yelp_json.map(lambda x: (x['user_id'], x['name'], x['review_count'], x['average_stars']))\n",
    "reviews.take(5)"
   ]
  },
  {
   "cell_type": "markdown",
   "id": "c9ec42e2",
   "metadata": {},
   "source": [
    "What I want to do now is find out which users have the highest number of reviews. To accomplish this, I will run a takeOrdered function for the top 25 users. The function will be reading index of 2, which is \"review_count\". To help us accomplish the next task (finding out the average ratings for the most active users), I also assigned the takeOrdered function to a variable 'hiRev'."
   ]
  },
  {
   "cell_type": "code",
   "execution_count": 9,
   "id": "92eeea2b",
   "metadata": {},
   "outputs": [
    {
     "data": {
      "text/plain": [
       "[('8k3aO-mPeyhbR5HUucA5aA', 'Victor', 14455, 3.28),\n",
       " ('RtGqdDBvvBCjcu5dUqwfzA', 'Shila', 12772, 3.87),\n",
       " ('hWDybu_KvYLSdEFzGrniTw', 'Bruce', 12487, 3.64),\n",
       " ('Hi10sGSZNxQH3NLyWSZ1oA', 'Fox', 11112, 3.8),\n",
       " ('P5bUL3Engv-2z6kKohB6qQ', 'Kim', 9875, 3.8),\n",
       " ('8RcEwGrFIgkt9WQ35E6SnQ', 'George', 7745, 3.49),\n",
       " ('nmdkHL2JKFx55T3nq5VziA', 'Nijole', 7626, 3.71),\n",
       " ('Xwnf20FKuikiHcSpcEbpKQ', 'Kenneth', 6762, 3.32),\n",
       " ('CxDOIDnH8gp9KXzpBHJYXw', 'Jennifer', 6633, 3.33),\n",
       " ('HFECrzYDpgbS5EmTBtj2zQ', 'Eric', 5500, 3.93),\n",
       " ('kS1MQHYwIfD0462PE61IBw', 'Rob', 5156, 3.82),\n",
       " ('WG3w_73scm_JUWJ_3Lgn0Q', 'Jack', 5013, 3.87),\n",
       " ('m07sy7eLtOjVdZ8oN9JKag', 'Ed', 4913, 3.66),\n",
       " ('Xj0O2l0bp633ebmG468aZw', 'Andrew', 4851, 3.73),\n",
       " ('bQCHF5rn5lMI9c5kEwCaNA', 'Vincent', 4845, 3.77),\n",
       " ('XYSDrIef7g4Gmp3lNFVO6A', 'Neal', 4828, 3.96),\n",
       " ('IucvvxdQXXhjQ4z6Or6Nrw', 'Sunil', 4784, 3.46),\n",
       " ('wZPizeBxMAyOSl0M0zuCjg', 'Jess', 4697, 3.63),\n",
       " ('U4INQZOPSUaj8hMjLlZ3KA', 'Michael', 4631, 3.9),\n",
       " ('bLbSNkLggFnqwNNzzq-Ijw', 'Stefany', 4627, 3.39),\n",
       " ('FZTkBavnUWVQRK3ULOxePQ', 'Greg', 4624, 3.64),\n",
       " ('Eypq5gLLjCapBVVnMw_MyA', 'Misha', 4602, 3.96),\n",
       " ('syvwUKQJ4OYfmL_ixVLMeQ', 'Tina', 4270, 3.28),\n",
       " ('cMEtAiW60I5wE_vLfTxoJQ', 'Jennifer', 4188, 4.05),\n",
       " ('CQUDh80m48xnzUkx-X5NAw', 'David', 4181, 3.9)]"
      ]
     },
     "execution_count": 9,
     "metadata": {},
     "output_type": "execute_result"
    }
   ],
   "source": [
    "hiRev = reviews.takeOrdered(25, key = lambda x: -x[2])\n",
    "hiRev"
   ]
  },
  {
   "cell_type": "code",
   "execution_count": 10,
   "id": "330ece75",
   "metadata": {},
   "outputs": [
    {
     "data": {
      "text/plain": [
       "3.6875999999999998"
      ]
     },
     "execution_count": 10,
     "metadata": {},
     "output_type": "execute_result"
    }
   ],
   "source": [
    "#Function to find average rating among top 25 reviewers\n",
    "def avgRate(x):\n",
    "    count = 0\n",
    "    total = 0\n",
    "    for i in x:\n",
    "        count += i[3]\n",
    "        total += 1\n",
    "    return count/total\n",
    "\n",
    "avgRate(hiRev)"
   ]
  },
  {
   "cell_type": "markdown",
   "id": "8c4d7921",
   "metadata": {},
   "source": [
    "To find the average rating, I created a function which basically performs a mean function on the list. When run, it shows us that the average rating among the top 25 reviewers, based upon their review count, is around 3.6876. It is worth noting that the average may actually be slightly higher (or lower) if we take out some of the outliers. Additionally, some of these \"top\" reviewers may be bots as it isn't likely that a person has enough time to visit 14,000 different places and leave reviews on each of them."
   ]
  },
  {
   "cell_type": "markdown",
   "id": "1423409e",
   "metadata": {},
   "source": [
    "The next thing I wanted to do was find two \"interesting\" user attributes. The first attribute that caught my attention was the compliments received overall. The reason this was interesting to me is that other people found the review so helpful that they wanted to personally thank, or compliment, the reviewer (must have been quite the review). As such, I thought it would be interesting to see the top twenty-five users with the most overall compliments. "
   ]
  },
  {
   "cell_type": "code",
   "execution_count": 11,
   "id": "b5dae3f5",
   "metadata": {},
   "outputs": [
    {
     "data": {
      "text/plain": [
       "[('Tqm7Wu7IBJ1td3Ab5ZpUhw', 'Brian', 277196, 925),\n",
       " ('JjXuiru1_ONzDkYVrHN0aw', 'Richard', 263889, 7108),\n",
       " ('ax7SnXOTIpatbsmqHLqVow', 'Rohlin', 152814, 1794),\n",
       " ('eKUGKQRE-Ywi5dY55_zChg', 'Cherylynn', 147824, 5730),\n",
       " ('--2vR0DIsmQ6WfcSzKWigw', 'Harald', 127430, 3883),\n",
       " ('h4oOQdnfjpEHbygEJDsFbg', 'John', 126417, 1089),\n",
       " ('NOUfyJW-BAo_-Cbfo8edww', 'Lolia', 118563, 3001),\n",
       " ('JRAy4P4op3PCISZaMRA9_w', 'Carissa', 87765, 584),\n",
       " ('UXbCcmkYGl3DH_Py5UOtbQ', 'Toni', 77158, 297),\n",
       " ('Ggx8iUdJ7lsQSqXRuclXtg', 'Nadine', 76798, 1443),\n",
       " ('Z88N6qly3Dp5C06XbZ9IMQ', 'Janice', 69240, 1540),\n",
       " ('W7DHyQlY_kXls2iXt-_2Ag', 'Maggie', 67814, 4545),\n",
       " ('AbMjnKOwg736fcIu8apuyQ', 'Michael', 65123, 5842),\n",
       " ('59GSwMflQFllOAWvw0F5mw', 'Dana', 64447, 1400),\n",
       " ('_aSs5dSAabuwnXUGBPzASw', 'Genevieve', 64165, 2160),\n",
       " ('0juzbrgcLHqobdK-OZAyiw', 'Daniel', 63526, 1709),\n",
       " ('HH7iiWvBqV-20lA7JlSRWQ', 'Lyla', 62991, 820),\n",
       " ('w-w-k-QXosIKQ8HQVwU6IQ', 'Anthony', 60223, 5987),\n",
       " ('13f_vtUZEmlzweL91bmVng', 'Michelle', 59988, 1939),\n",
       " ('OapLWhQI4_Gm32-nYbHmUA', 'Yee Gan', 58075, 2036),\n",
       " ('eyx42e79U0UEIqWabS1GEA', 'Simon', 57534, 2053),\n",
       " ('xCdBM9yKyKyqW9qC2RqAkQ', 'Kelley', 49928, 2428),\n",
       " ('zFYs8gSUYDvXkb6O7YkRkw', 'Joyce', 49653, 5478),\n",
       " ('Fv0e9RIV9jw5TX3ctA1WbA', 'Christie', 49307, 2067),\n",
       " ('fHqt_c3oDQ4ZWFzeOo4ezA', 'Terry', 47715, 1302)]"
      ]
     },
     "execution_count": 11,
     "metadata": {},
     "output_type": "execute_result"
    }
   ],
   "source": [
    "#compliments = yelp_json.map(lambda x: (x['user_id'], x['name'], x['compliment_hot'] + x['compliment_more'] + \n",
    "#                                       x['compliment_profile'] + x['compliment_cute'] + x['compliment_list'] +\n",
    "#                                       x['compliment_note'] + x['compliment_plain'] + x['compliment_cool'] + \n",
    "#                                       x['compliment_funny'] + x['compliment_writer'] + x['compliment_photos']))\n",
    "\n",
    "#Update: added new column, 'friends', to help in later statistical analysis\n",
    "compliments = yelp_json.map(lambda x: (x['user_id'], x['name'], x['compliment_hot'] + x['compliment_more'] + \n",
    "                                       x['compliment_profile'] + x['compliment_cute'] + x['compliment_list'] +\n",
    "                                       x['compliment_note'] + x['compliment_plain'] + x['compliment_cool'] + \n",
    "                                       x['compliment_funny'] + x['compliment_writer'] + x['compliment_photos'],len((x['friends']).split())))\n",
    "compliments.takeOrdered(25, key = lambda x: -x[2])"
   ]
  },
  {
   "cell_type": "markdown",
   "id": "01309274",
   "metadata": {},
   "source": [
    "As seen above, the user with the most compliments received almost 280,000 compliments! One can only imagine how amazing their reviews must be. The second user attribute I found quite interesting was the number of friends each user has. I didn't even know you could have friends on Yelp to begin with! I wanted to run an analysis on whether or not the the users with the highest number of friends coincides with the users with the most number of compliments. My hypothesis was that if a user has a lot of friends, they should also receive a lot of compliments, many from their own friends."
   ]
  },
  {
   "cell_type": "code",
   "execution_count": 12,
   "id": "d6c38439",
   "metadata": {},
   "outputs": [
    {
     "data": {
      "text/plain": [
       "[('ntlvfPzc8eglqvk92iDIAw', 'Rafael', 45),\n",
       " ('FOBRPlBHa3WPHFB5qYDlVg', 'Michelle', 213),\n",
       " ('zZUnPeh2hEp0WydbAZEOOg', 'Martin', 35),\n",
       " ('QaELAmRcDc5TfJEylaaP8g', 'John', 173),\n",
       " ('xvu8G900tezTzbbfqmTKvA', 'Anne', 895)]"
      ]
     },
     "execution_count": 12,
     "metadata": {},
     "output_type": "execute_result"
    }
   ],
   "source": [
    "\n",
    "#Function to count the amount of friends each user has\n",
    "#def countFriends (x) :\n",
    "#    count = 0\n",
    "#    array = []\n",
    "#    for i in x:\n",
    "#        for j in i[2]:\n",
    "#            count += 1\n",
    "#        array.append((i[0],i[1],count))\n",
    "#        count = 0\n",
    "#    return array\n",
    "#\n",
    "\n",
    "\n",
    "#More effective way to count friends for each user\n",
    "friends = yelp_json.map(lambda x: (x['user_id'], x['name'], len((x['friends']).split())))\n",
    " \n",
    "friends.take(5)\n"
   ]
  },
  {
   "cell_type": "code",
   "execution_count": 13,
   "id": "1ec85341",
   "metadata": {},
   "outputs": [
    {
     "data": {
      "text/plain": [
       "[('qVc8ODYU5SZjKXVBgXdI7w', 'Walker', 14995),\n",
       " ('iLjMdZi0Tm7DQxX1C1_2dg', 'Ruggy', 12320),\n",
       " ('ZIOCmdFaMIF56FR-nWr_2A', 'Randy', 10431),\n",
       " ('mV4lknblF-zOKSF8nlGqDA', 'Scott', 9685),\n",
       " ('Oi1qbcz2m2SnwUeztGYcnQ', 'Steven', 8964),\n",
       " ('F_5_UNX-wrAFCXuAkBZRDw', 'Rodney', 8716),\n",
       " ('IU86PZPgTDCFwJEuAg2j7g', 'Danny', 8672),\n",
       " ('djxnI8Ux8ZYQJhiOQkrRhA', 'Abby', 8590),\n",
       " ('hizGc5W1tBHPghM5YKCAtg', 'Katie', 8287),\n",
       " ('c-Dja5bexzEWBufNsHfRrQ', 'Vince', 8207),\n",
       " ('fgwI3rYHOv1ipfVfCSx7pg', 'Emi', 7989),\n",
       " ('wEE-YMx5pmSuagLtNxMPKA', 'Stephanie', 7935),\n",
       " ('MeDuKsZcnI3IU2g7OlV-hQ', 'Frank', 7780),\n",
       " ('MX_sGTpLIQ0EOcvK73nRyA', 'Nam', 7703),\n",
       " ('UsXqCXRZwSCSw0AT7y1uBg', 'Candice', 7413),\n",
       " ('Ve0LUwcrzxL7w0RYgY4Aaw', 'Katy', 7401),\n",
       " ('5MCBLBxr10NLUKZ4AboAMg', 'Colleen', 7169),\n",
       " ('JjXuiru1_ONzDkYVrHN0aw', 'Richard', 7108),\n",
       " ('VHdY6oG2JPVNjihWhOooAQ', 'Jessica', 7088),\n",
       " ('xsT4KZTu_KnOVavtuXn4RA', 'Rodney', 7010),\n",
       " ('IDVFG1pNSHIHoVuoLuZpcQ', 'Andy', 6955),\n",
       " ('YttDgOC9AlM4HcAlDsbB2A', 'Phil', 6834),\n",
       " ('3zxy3LVBV3ttxoYbY4rQ8A', 'Farrah', 6824),\n",
       " ('nkN_do3fJ9xekchVC-v68A', 'Jeremy', 6805),\n",
       " ('NfU0zDaTMEQ4-X9dbQWd9A', 'Cara', 6770)]"
      ]
     },
     "execution_count": 13,
     "metadata": {},
     "output_type": "execute_result"
    }
   ],
   "source": [
    "#totalFriends = friends.map(lambda x: countFriends(x))\n",
    "#totalFriends.takeOrdered(25, key = lambda x: -x[2])\n",
    "\n",
    "friends.takeOrdered(25, key = lambda x: -x[2])"
   ]
  },
  {
   "cell_type": "markdown",
   "id": "361d566e",
   "metadata": {},
   "source": [
    "__OLD INFO:__ When comparing the top twenty-five most-friended users against the top twenty-five most-complimented users, the top twenty-five for each category is surprisingly different! While users with many compliments may have a lot of friends, the amount of friends doesn't necessarily coincide with the amount of compliments received. One possible reason for this is that a user may have many friends, but they don't post many reviews. If this is the case, then it would make sense as to why they don't have many compliments. To visualize this, I turned the top 25 of each category into individual sets and then I compared those sets. As seen below, there was only one user in both lists (Richard, user ID: 'JjXuiru1_ONzDkYVrHN0aw'); therefore, it is safe to assume that they do not coincide."
   ]
  },
  {
   "cell_type": "code",
   "execution_count": 14,
   "id": "1510d670",
   "metadata": {},
   "outputs": [],
   "source": [
    "#Old Info\n",
    "c = compliments.takeOrdered(25, key = lambda x: -x[2])\n",
    "f = friends.takeOrdered(25, key = lambda x: -x[2])"
   ]
  },
  {
   "cell_type": "code",
   "execution_count": 15,
   "id": "5c066a7d",
   "metadata": {},
   "outputs": [
    {
     "data": {
      "text/plain": [
       "[('JjXuiru1_ONzDkYVrHN0aw', 'Richard')]"
      ]
     },
     "execution_count": 15,
     "metadata": {},
     "output_type": "execute_result"
    }
   ],
   "source": [
    "#Old Info\n",
    "#Function to compare list 'c' with list 'f'.\n",
    "\n",
    "def compareCF(x, y):\n",
    "    array = []\n",
    "    for i in x:\n",
    "        for j in y:\n",
    "            if i[0] == j[0]:\n",
    "                array.append(i[0:2])\n",
    "    return array\n",
    "\n",
    "compareCF(c, f)\n"
   ]
  },
  {
   "cell_type": "markdown",
   "id": "71e4c8b1",
   "metadata": {},
   "source": [
    "__NEW INFO:__ After playing around with Jupyter notebook for a bit, I found a rather interesting way to run statistical analysis on both columns going beyond just the top 25 for each category. My new analysis contained a comparison between Compliments and Friends, and Compliments and Fans. "
   ]
  },
  {
   "cell_type": "code",
   "execution_count": 16,
   "id": "64a63cd1",
   "metadata": {},
   "outputs": [
    {
     "name": "stdout",
     "output_type": "stream",
     "text": [
      "+-------+------------------+-----------------+\n",
      "|summary|       Compliments|          Friends|\n",
      "+-------+------------------+-----------------+\n",
      "|  count|           1968703|          1968703|\n",
      "|   mean|14.733649514426503|52.04515409383742|\n",
      "| stddev| 503.8868828574259|145.2836742064494|\n",
      "|    min|                 0|                1|\n",
      "|    25%|                 0|                1|\n",
      "|    50%|                 0|                2|\n",
      "|    75%|                 1|               47|\n",
      "|    max|            277196|            14995|\n",
      "+-------+------------------+-----------------+\n",
      "\n"
     ]
    }
   ],
   "source": [
    "#Dataframe for Compliments and Friends\n",
    "\n",
    "df = compliments.toDF()\n",
    "compFriends = df.selectExpr(\"_3 as Compliments\", \"_4 as Friends\")\n",
    "compFriends.select(\"Compliments\", \"Friends\").summary().show()"
   ]
  },
  {
   "cell_type": "code",
   "execution_count": 17,
   "id": "84234677",
   "metadata": {},
   "outputs": [
    {
     "data": {
      "text/plain": [
       "0.2698637220656327"
      ]
     },
     "execution_count": 17,
     "metadata": {},
     "output_type": "execute_result"
    }
   ],
   "source": [
    "from pyspark.ml.stat import Correlation\n",
    "compFriends.stat.corr('Compliments','Friends')"
   ]
  },
  {
   "cell_type": "code",
   "execution_count": 18,
   "id": "49ad3609",
   "metadata": {},
   "outputs": [],
   "source": [
    "complimentsAndFans = yelp_json.map(lambda x: (x['user_id'], x['name'], x['compliment_hot'] + x['compliment_more'] + \n",
    "                                       x['compliment_profile'] + x['compliment_cute'] + x['compliment_list'] +\n",
    "                                       x['compliment_note'] + x['compliment_plain'] + x['compliment_cool'] + \n",
    "                                       x['compliment_funny'] + x['compliment_writer'] + x['compliment_photos'],x['fans']))"
   ]
  },
  {
   "cell_type": "code",
   "execution_count": 19,
   "id": "a6065c7d",
   "metadata": {},
   "outputs": [
    {
     "name": "stdout",
     "output_type": "stream",
     "text": [
      "+-------+------------------+------------------+\n",
      "|summary|       Compliments|              Fans|\n",
      "+-------+------------------+------------------+\n",
      "|  count|           1968703|           1968703|\n",
      "|   mean|14.733649514426503|1.4588239058913406|\n",
      "| stddev| 503.8868828574259|16.675211902790608|\n",
      "|    min|                 0|                 0|\n",
      "|    25%|                 0|                 0|\n",
      "|    50%|                 0|                 0|\n",
      "|    75%|                 1|                 0|\n",
      "|    max|            277196|             11568|\n",
      "+-------+------------------+------------------+\n",
      "\n"
     ]
    }
   ],
   "source": [
    "#Dataframe for Compliments and Fans\n",
    "\n",
    "df = complimentsAndFans.toDF()\n",
    "data = df.selectExpr(\"_3 as Compliments\", \"_4 as Fans\")\n",
    "data.select(\"Compliments\", \"Fans\").summary().show()"
   ]
  },
  {
   "cell_type": "code",
   "execution_count": 20,
   "id": "2a1c2358",
   "metadata": {},
   "outputs": [
    {
     "data": {
      "text/plain": [
       "0.4814993480267218"
      ]
     },
     "execution_count": 20,
     "metadata": {},
     "output_type": "execute_result"
    }
   ],
   "source": [
    "from pyspark.ml.stat import Correlation\n",
    "data.stat.corr('Compliments','Fans')"
   ]
  },
  {
   "cell_type": "markdown",
   "id": "9dc7472f",
   "metadata": {},
   "source": [
    "This new analysis is a bit confusing at first glance. There is a rather big jump between the seventy-fifth percentile to the max on both dataframes. What we really want to focus on is the correlation percentage for (Compliments, Friends) and then (Compliments, Fans). Compliments to Friends has a 0.2699 correlation (weak association) while Compliments to Fans has a 0.4815 (moderate association) correlation. Based on this information, we can assume that fans have a bigger impact on total compliments received as opposed to the number of friends. This is expected as fans can be anyone, the Yelp user doesn't need to fan someone back to have them follow. Friends on the other hand require more work on the part of both users.\n",
    "\n",
    "__END NEW INFO__"
   ]
  },
  {
   "cell_type": "markdown",
   "id": "2b683537",
   "metadata": {},
   "source": [
    "Now to find the most influential users, we have a few different factors we could look at. The first one is obviously the number of reviews, but I believe that isn't necessarily a telling factor as it may be artifically inflated. The second one is the amount of compliments receieved. The issue with this one is that some reviews may have been left at highly visited places. As such, certain places may receive much more attention and reactions on yelp as opposed to more obscure places where people don't frequent yelp for as often. In the end, I think the best factor for deciding on whether or not a user is influential would be the number of fans they have. A fan essentially means that these people trust the reviewers opinion so much so that they follow all reviews the person posts. Now, to find the number of fans, we can just run a simple map function on the overall dataset, taking an ordered function afterwards. I have included the user_ids, but also the names so it can be a little more readable. \n",
    "\n",
    "__NEW INFO:__ Upon going back to my work, I decided it might also be interesting if we also show if fans correlates with Elite years in any way."
   ]
  },
  {
   "cell_type": "code",
   "execution_count": 21,
   "id": "1feb1340",
   "metadata": {},
   "outputs": [
    {
     "data": {
      "text/plain": [
       "[('37cpUoM8hlkSQfReIEBd-Q', 'Mike', 11568, 7),\n",
       " ('hizGc5W1tBHPghM5YKCAtg', 'Katie', 3315, 10),\n",
       " ('eKUGKQRE-Ywi5dY55_zChg', 'Cherylynn', 2916, 9),\n",
       " ('Hi10sGSZNxQH3NLyWSZ1oA', 'Fox', 2718, 5),\n",
       " ('j14WgRoU_-2ZE1aw1dXrJg', 'Daniel', 2634, 10),\n",
       " ('iLjMdZi0Tm7DQxX1C1_2dg', 'Ruggy', 2516, 11),\n",
       " ('JjXuiru1_ONzDkYVrHN0aw', 'Richard', 2316, 8),\n",
       " ('ITa3vh5ERI90G_WP4SmGUQ', 'Peter', 2280, 11),\n",
       " ('UsXqCXRZwSCSw0AT7y1uBg', 'Candice', 2263, 10),\n",
       " ('VHdY6oG2JPVNjihWhOooAQ', 'Jessica', 2140, 13)]"
      ]
     },
     "execution_count": 21,
     "metadata": {},
     "output_type": "execute_result"
    }
   ],
   "source": [
    "fansOverall = yelp_json.map(lambda x: (x['user_id'], x['name'], x['fans'], len(x['elite'].split(\",\"))))\n",
    "fansOverall.takeOrdered(10, key = lambda x: -x[2])"
   ]
  },
  {
   "cell_type": "markdown",
   "id": "ce5d04cd",
   "metadata": {},
   "source": [
    "As we can see, Mike has the highest number of fans, 11,568. One thing I found really interesting was user Fox has almost five times the amount of reviews as user Cherlynn, but Fox has fewer fans overall. The ratio of fans to number of reviews might indicate that the quality of a user's review may be more beneficial to others as opposed to the quantity, or amount, of reviews they post."
   ]
  },
  {
   "cell_type": "code",
   "execution_count": 22,
   "id": "79d3fd03",
   "metadata": {},
   "outputs": [
    {
     "name": "stdout",
     "output_type": "stream",
     "text": [
      "+-------+------------------+-----------------+\n",
      "|summary|              Fans|            Elite|\n",
      "+-------+------------------+-----------------+\n",
      "|  count|           1968703|          1968703|\n",
      "|   mean|1.4588239058913406|1.079550851499693|\n",
      "| stddev|16.675211902790608|  0.5769988528825|\n",
      "|    min|                 0|                1|\n",
      "|    25%|                 0|                1|\n",
      "|    50%|                 0|                1|\n",
      "|    75%|                 0|                1|\n",
      "|    max|             11568|               13|\n",
      "+-------+------------------+-----------------+\n",
      "\n"
     ]
    }
   ],
   "source": [
    "df = fansOverall.toDF()\n",
    "data = df.selectExpr(\"_3 as Fans\", \"_4 as Elite\")\n",
    "data.select(\"Fans\", \"Elite\").summary().show()"
   ]
  },
  {
   "cell_type": "code",
   "execution_count": 23,
   "id": "93ce326e",
   "metadata": {},
   "outputs": [
    {
     "data": {
      "text/plain": [
       "0.4070426817740818"
      ]
     },
     "execution_count": 23,
     "metadata": {},
     "output_type": "execute_result"
    }
   ],
   "source": [
    "from pyspark.ml.stat import Correlation\n",
    "data.stat.corr('Fans','Elite')"
   ]
  },
  {
   "cell_type": "markdown",
   "id": "a5a29635",
   "metadata": {},
   "source": [
    "It appears as if there is a moderate correlation between the number of fans a user has and the amount of years they received Elite status. This is to be expected as having an Elite status most likely makes you more appealing to the average user and they are more likely to trust your opinion. Granted, Elite status is not given by the community; rather, it is given by Yelp so being Elite is rather subjective."
   ]
  },
  {
   "cell_type": "code",
   "execution_count": null,
   "id": "ecba5cc0",
   "metadata": {},
   "outputs": [],
   "source": []
  }
 ],
 "metadata": {
  "kernelspec": {
   "display_name": "Python 3",
   "language": "python",
   "name": "python3"
  },
  "language_info": {
   "codemirror_mode": {
    "name": "ipython",
    "version": 3
   },
   "file_extension": ".py",
   "mimetype": "text/x-python",
   "name": "python",
   "nbconvert_exporter": "python",
   "pygments_lexer": "ipython3",
   "version": "3.6.13"
  }
 },
 "nbformat": 4,
 "nbformat_minor": 5
}
